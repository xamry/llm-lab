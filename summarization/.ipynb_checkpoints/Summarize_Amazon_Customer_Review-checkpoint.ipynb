{
 "cells": [
  {
   "cell_type": "markdown",
   "id": "975e87d0-a7fd-41dc-904a-c56e22fd1e6f",
   "metadata": {},
   "source": [
    "# Summarizing an AmazonCustomer Review"
   ]
  },
  {
   "cell_type": "markdown",
   "id": "f55aedec-e213-4f93-868c-e89319dbee88",
   "metadata": {},
   "source": [
    "## Introduction\n",
    "This program summarizes customer reviews for a given Amazon product whose URL is given."
   ]
  },
  {
   "cell_type": "code",
   "execution_count": 5,
   "id": "877ea19d-cccc-4c0f-bcd2-33d8b634240c",
   "metadata": {},
   "outputs": [],
   "source": [
    "#import packages\n",
    "import requests\n",
    "import os\n",
    "from dotenv import load_dotenv\n",
    "from bs4 import BeautifulSoup\n",
    "from IPython.display import Markdown, display\n",
    "from openai import OpenAI"
   ]
  },
  {
   "cell_type": "code",
   "execution_count": 6,
   "id": "129f2bf3-8b1c-46e8-86b9-c35447b83e88",
   "metadata": {},
   "outputs": [
    {
     "name": "stdout",
     "output_type": "stream",
     "text": [
      "API key found, and looks good so far!\n"
     ]
    }
   ],
   "source": [
    "# Load environment variables. \n",
    "# Here we're loading the OpenAPI Key, instead of hardcoding it in the code.\n",
    "# This requires keeping the key in .env file. \n",
    "\n",
    "load_dotenv(override=True)\n",
    "api_key = os.getenv('OPENAI_API_KEY')\n",
    "MODEL = \"gpt-4o-mini\"    # The OpenAI mode to use\n",
    "\n",
    "# Check the key\n",
    "if not api_key:\n",
    "    print(\"No API key was found, please check that .env file exists.\")\n",
    "elif not api_key.startswith(\"sk-proj-\"):\n",
    "    print(\"An API key was found, but it doesn't start with sk-proj-; please check you're using the right key\")\n",
    "elif api_key.strip() != api_key:\n",
    "    print(\"An API key was found, but it looks like it might have space or tab characters at the start or end - please remove them\")\n",
    "else:\n",
    "    print(\"API key found, and looks good so far!\")"
   ]
  },
  {
   "cell_type": "code",
   "execution_count": 7,
   "id": "a464dbf0-e870-4fc5-b234-0bbad4c55864",
   "metadata": {},
   "outputs": [],
   "source": [
    "# Create object of OpenAI\n",
    "openai = OpenAI()"
   ]
  },
  {
   "cell_type": "code",
   "execution_count": 23,
   "id": "b543fdfb-2268-44dd-809a-11587abb3ac6",
   "metadata": {},
   "outputs": [],
   "source": [
    "# Define a class to represent a Webpage\n",
    "# Some websites need you to use proper headers when fetching them:\n",
    "headers = {\n",
    " \"User-Agent\": \"Mozilla/5.0 (Windows NT 10.0; Win64; x64) AppleWebKit/537.36 (KHTML, like Gecko) Chrome/117.0.0.0 Safari/537.36\"\n",
    "}\n",
    "\n",
    "class Website:\n",
    "\n",
    "    def __init__(self, url):\n",
    "        self.url = url\n",
    "        response = requests.get(url, headers=headers)\n",
    "        soup = BeautifulSoup(response.text, 'html.parser')\n",
    "        # Find all review elements (adjust the class or tag based on the structure of the page)\n",
    "        reviews =  soup.select(\"div.review\")\n",
    "        # Extract review details (e.g., rating, title, text)\n",
    "        print(reviews)\n",
    "        for review in reviews:\n",
    "            rating = review.find('i', class_='a-icon-star').text.strip() if review.find('i', class_='a-icon-star') else 'No Rating'\n",
    "            title = review.find('a', class_='review-title').text.strip() if review.find('a', class_='review-title') else 'No Title'\n",
    "            text = review.find('span', class_='a-size-base review-text review-text-content').text.strip() if review.find('span', class_='a-size-base review-text review-text-content') else 'No Review Text'\n",
    "    \n",
    "            print(f\"Rating: {rating}\")\n",
    "            print(f\"Title: {title}\")\n",
    "            print(f\"Review: {text}\\n\")"
   ]
  },
  {
   "cell_type": "code",
   "execution_count": 25,
   "id": "6c7947fb-3ca1-479e-924a-c0e7eca0e26e",
   "metadata": {},
   "outputs": [
    {
     "name": "stdout",
     "output_type": "stream",
     "text": [
      "[]\n"
     ]
    }
   ],
   "source": [
    "website = Website('https://www.amazon.com/Apple-2022-10-9-inch-iPad-Wi-Fi/dp/B0BJLXMVMV')\n"
   ]
  },
  {
   "cell_type": "code",
   "execution_count": 31,
   "id": "c0bebdbb-fe13-4221-8916-8f5ae119efaf",
   "metadata": {},
   "outputs": [
    {
     "name": "stdout",
     "output_type": "stream",
     "text": [
      "[]\n",
      "Failed to retrieve reviews.\n"
     ]
    }
   ],
   "source": [
    "def fetch_amazon_reviews(product_url):\n",
    "    headers = {\n",
    "        'User-Agent': 'Mozilla/5.0 (Windows NT 10.0; Win64; x64) AppleWebKit/537.36 (KHTML, like Gecko) Chrome/91.0.4472.124 Safari/537.36'\n",
    "    }\n",
    "\n",
    "    response = requests.get(product_url, headers=headers)\n",
    "    if response.status_code == 200:\n",
    "        soup = BeautifulSoup(response.text, 'html.parser')\n",
    "\n",
    "        # Find review section (this part may vary based on Amazon's structure)\n",
    "        reviews = []\n",
    "        review_section = soup.find_all('span', {'class': 'cr-widget-FocalReviews'})  # Adjust this based on your findings\n",
    "        print(review_section)\n",
    "        for review in review_section:\n",
    "            review_text = review.get_text(strip=True)\n",
    "            reviews.append(review_text)\n",
    "\n",
    "        return reviews\n",
    "    else:\n",
    "        return None\n",
    "\n",
    "# Example usage\n",
    "product_url = 'https://www.amazon.com/Apple-2022-10-9-inch-iPad-Wi-Fi/dp/B0BJLXMVMV'  # Replace with the product URL you want to scrape\n",
    "reviews = fetch_amazon_reviews(product_url)\n",
    "\n",
    "if reviews:\n",
    "    for idx, review in enumerate(reviews[:5]):  # Show first 5 reviews as example\n",
    "        print(f\"Review {idx + 1}: {review}\")\n",
    "else:\n",
    "    print(\"Failed to retrieve reviews.\")"
   ]
  },
  {
   "cell_type": "code",
   "execution_count": null,
   "id": "0e3bbc1d-3f9a-4824-948f-6eb1f4c2ffd4",
   "metadata": {},
   "outputs": [],
   "source": []
  }
 ],
 "metadata": {
  "kernelspec": {
   "display_name": "Python 3 (ipykernel)",
   "language": "python",
   "name": "python3"
  },
  "language_info": {
   "codemirror_mode": {
    "name": "ipython",
    "version": 3
   },
   "file_extension": ".py",
   "mimetype": "text/x-python",
   "name": "python",
   "nbconvert_exporter": "python",
   "pygments_lexer": "ipython3",
   "version": "3.11.11"
  }
 },
 "nbformat": 4,
 "nbformat_minor": 5
}
