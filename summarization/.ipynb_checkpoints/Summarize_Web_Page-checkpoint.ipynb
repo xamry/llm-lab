{
 "cells": [
  {
   "cell_type": "markdown",
   "id": "909e5155-7f1d-4409-8a6f-b1ea7681830e",
   "metadata": {},
   "source": [
    "# Summarizing a web page"
   ]
  },
  {
   "cell_type": "markdown",
   "id": "f159b076-2bd6-4b11-91c2-a224642f62a1",
   "metadata": {},
   "source": [
    "## Use Case\n",
    "This program uses a frontier model of OpenAI to summarize a given web page"
   ]
  },
  {
   "cell_type": "code",
   "execution_count": 51,
   "id": "3d63e79c-a7d6-4ae2-a8bb-84d78673894e",
   "metadata": {},
   "outputs": [],
   "source": [
    "#import packages\n",
    "import requests\n",
    "from dotenv import load_dotenv\n",
    "from bs4 import BeautifulSoup\n",
    "from IPython.display import Markdown, display\n",
    "from openai import OpenAI"
   ]
  },
  {
   "cell_type": "code",
   "execution_count": 52,
   "id": "021f908a-6b25-4203-b54c-2ea4f9bf452a",
   "metadata": {},
   "outputs": [
    {
     "name": "stdout",
     "output_type": "stream",
     "text": [
      "API key found, and looks good so far!\n"
     ]
    }
   ],
   "source": [
    "# Load environment variables. \n",
    "# Here we're loading the OpenAPI Key, instead of hardcoding it in the code.\n",
    "# This requires keeping the key in .env file. \n",
    "\n",
    "load_dotenv(override=True)\n",
    "api_key = os.getenv('OPENAI_API_KEY')\n",
    "MODEL = \"gpt-4o-mini\"    # The OpenAI mode to use\n",
    "\n",
    "# Check the key\n",
    "if not api_key:\n",
    "    print(\"No API key was found, please check that .env file exists.\")\n",
    "elif not api_key.startswith(\"sk-proj-\"):\n",
    "    print(\"An API key was found, but it doesn't start with sk-proj-; please check you're using the right key\")\n",
    "elif api_key.strip() != api_key:\n",
    "    print(\"An API key was found, but it looks like it might have space or tab characters at the start or end - please remove them\")\n",
    "else:\n",
    "    print(\"API key found, and looks good so far!\")"
   ]
  },
  {
   "cell_type": "code",
   "execution_count": 53,
   "id": "3cc98161-9922-45cf-a8f5-44d3943f0cb1",
   "metadata": {},
   "outputs": [],
   "source": [
    "# Create object of OpenAI\n",
    "openai = OpenAI()"
   ]
  },
  {
   "cell_type": "code",
   "execution_count": 54,
   "id": "a6dff461-28e6-4beb-b260-61de7780ba31",
   "metadata": {},
   "outputs": [],
   "source": [
    "# Define a class to represent a Webpage\n",
    "# Some websites need you to use proper headers when fetching them:\n",
    "headers = {\n",
    " \"User-Agent\": \"Mozilla/5.0 (Windows NT 10.0; Win64; x64) AppleWebKit/537.36 (KHTML, like Gecko) Chrome/117.0.0.0 Safari/537.36\"\n",
    "}\n",
    "\n",
    "class Website:\n",
    "\n",
    "    def __init__(self, url):\n",
    "        \"\"\"\n",
    "        Create this Website object from the given url using the BeautifulSoup library\n",
    "        \"\"\"\n",
    "        self.url = url\n",
    "        response = requests.get(url, headers=headers)\n",
    "        soup = BeautifulSoup(response.content, 'html.parser')\n",
    "        self.title = soup.title.string if soup.title else \"No title found\"\n",
    "        for irrelevant in soup.body([\"script\", \"style\", \"img\", \"input\"]):\n",
    "            irrelevant.decompose()\n",
    "        self.text = soup.body.get_text(separator=\"\\n\", strip=True)"
   ]
  },
  {
   "cell_type": "code",
   "execution_count": 55,
   "id": "1f747a96-6350-4a96-a70f-5e7c14c262c8",
   "metadata": {},
   "outputs": [],
   "source": [
    "# Define your system prompt\n",
    "system_prompt = \"You are an assistant that analyzes the contents of a website \\\n",
    "and provides a short summary, ignoring text that might be navigation related. \\\n",
    "Respond in markdown.\""
   ]
  },
  {
   "cell_type": "code",
   "execution_count": 56,
   "id": "f2f5e950-b21e-48a7-ab01-1faa7819310b",
   "metadata": {},
   "outputs": [],
   "source": [
    "# Generate our user prompt\n",
    "# A function that writes a User Prompt that asks for summaries of websites:\n",
    "def user_prompt_for(website):\n",
    "    user_prompt = f\"You are looking at a website titled {website.title}\"\n",
    "    user_prompt += \"\\nThe contents of this website is as follows; \\\n",
    "please provide a short summary of this website in markdown. \\\n",
    "If it includes news or announcements, then summarize these too.\\n\\n\"\n",
    "    user_prompt += website.text\n",
    "    return user_prompt"
   ]
  },
  {
   "cell_type": "code",
   "execution_count": 57,
   "id": "b32d8b1a-122f-4047-afdb-fa8f099f49a5",
   "metadata": {},
   "outputs": [],
   "source": [
    "# Combine prompts in the format OpenAI understands\n",
    "# See how this function creates exactly the format above\n",
    "def messages_for(website):\n",
    "    return [\n",
    "        {\"role\": \"system\", \"content\": system_prompt},\n",
    "        {\"role\": \"user\", \"content\": user_prompt_for(website)}\n",
    "    ]"
   ]
  },
  {
   "cell_type": "code",
   "execution_count": 58,
   "id": "23229743-8276-4729-9a13-e04344cd1f65",
   "metadata": {},
   "outputs": [],
   "source": [
    "# Call the OpenAI API to summarize the web page for a given URL\n",
    "def summarize(url):\n",
    "    website = Website(url)\n",
    "    response = openai.chat.completions.create(\n",
    "        model = MODEL,\n",
    "        messages = messages_for(website)\n",
    "    )\n",
    "    return response.choices[0].message.content"
   ]
  },
  {
   "cell_type": "code",
   "execution_count": 59,
   "id": "6c86df25-0988-4fa0-8c78-04e555a282d5",
   "metadata": {},
   "outputs": [],
   "source": [
    "# A function to display summary nicely in the Jupyter output, using markdown\n",
    "\n",
    "def display_summary(url):\n",
    "    summary = summarize(url)\n",
    "    display(Markdown(summary))"
   ]
  },
  {
   "cell_type": "code",
   "execution_count": 60,
   "id": "05fbb8de-cdfd-4ef4-9939-792ea2acf4b3",
   "metadata": {},
   "outputs": [
    {
     "data": {
      "text/markdown": [
       "# Hugging Face – The AI Community Building the Future\n",
       "\n",
       "Hugging Face is a collaborative platform for the machine learning community, focusing on models, datasets, and applications. It provides a space where users can create, discover, and collaborate on machine learning projects.\n",
       "\n",
       "## Trending Models\n",
       "This week, some of the popular models include:\n",
       "- **deepseek-ai/DeepSeek-R1** - 131k updates\n",
       "- **deepseek-ai/DeepSeek-R1-Distill-Qwen-32B** - 98.1k updates\n",
       "- **hexgrad/Kokoro-82M** - 37.5k updates\n",
       "- **deepseek-ai/DeepSeek-R1-Zero** - 6k updates\n",
       "- **deepseek-ai/DeepSeek-R1-Distill-Qwen-1.5B** - 107k updates\n",
       "\n",
       "## Spaces\n",
       "Several applications are highlighted, such as:\n",
       "- **Hunyuan3D-2.0**: Text-to-3D and Image-to-3D Generation\n",
       "- **Kokoro TTS**: Now in 5 languages\n",
       "- **IC Light V2** \n",
       "- **DeepSeek-R1 WebGPU**: A next-generation reasoning model\n",
       "- **TRELLIS**: 3D generation from images\n",
       "\n",
       "## Datasets\n",
       "Highlighted datasets include:\n",
       "- **fka/awesome-chatgpt-prompts** \n",
       "- **cais/hle**\n",
       "- **HumanLLMs/Human-Like-DPO-Dataset**\n",
       "- **yale-nlp/MMVU**\n",
       "\n",
       "## Services Offered\n",
       "Hugging Face offers paid compute and enterprise solutions starting at $0.60/hour for GPU and $20/user/month for enterprise. The platform supports collaboration on unlimited public models, datasets, and applications.\n",
       "\n",
       "## Open Source Contributions\n",
       "The site emphasizes its commitment to open-source tools, featuring popular libraries such as:\n",
       "- **Transformers**: For state-of-the-art ML\n",
       "- **Diffusers**: For image and audio generation\n",
       "- **Safetensors**: For safely storing model weights\n",
       "\n",
       "Hugging Face is a resource for both organizations and individuals looking to advance their capabilities in machine learning and AI development, reinforcing its role as a key player in the AI community."
      ],
      "text/plain": [
       "<IPython.core.display.Markdown object>"
      ]
     },
     "metadata": {},
     "output_type": "display_data"
    }
   ],
   "source": [
    "display_summary(\"https://huggingface.com\")"
   ]
  },
  {
   "cell_type": "code",
   "execution_count": null,
   "id": "06c4e89e-5cfb-4b27-bddc-2d9d87aa5514",
   "metadata": {},
   "outputs": [],
   "source": []
  }
 ],
 "metadata": {
  "kernelspec": {
   "display_name": "Python 3 (ipykernel)",
   "language": "python",
   "name": "python3"
  },
  "language_info": {
   "codemirror_mode": {
    "name": "ipython",
    "version": 3
   },
   "file_extension": ".py",
   "mimetype": "text/x-python",
   "name": "python",
   "nbconvert_exporter": "python",
   "pygments_lexer": "ipython3",
   "version": "3.11.11"
  }
 },
 "nbformat": 4,
 "nbformat_minor": 5
}
