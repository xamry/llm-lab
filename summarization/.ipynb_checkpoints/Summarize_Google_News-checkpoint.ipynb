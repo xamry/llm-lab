{
 "cells": [
  {
   "cell_type": "markdown",
   "id": "c2d5ec65-c22d-417c-adb1-4c5962d7123a",
   "metadata": {},
   "source": [
    "# Summarize Google News"
   ]
  },
  {
   "cell_type": "markdown",
   "id": "c19ba67d-ffea-4793-b7fe-690649f51589",
   "metadata": {},
   "source": [
    "## Introduction\n",
    "Summarizes news in easy to read format for the stories present on Google news aggregator."
   ]
  },
  {
   "cell_type": "code",
   "execution_count": 14,
   "id": "2286e5e5-d4a9-413a-97d7-921fb1745928",
   "metadata": {},
   "outputs": [],
   "source": [
    "#import packages\n",
    "import requests\n",
    "import os\n",
    "from dotenv import load_dotenv\n",
    "from bs4 import BeautifulSoup\n",
    "from IPython.display import Markdown, display\n",
    "from openai import OpenAI\n",
    "import json"
   ]
  },
  {
   "cell_type": "code",
   "execution_count": 24,
   "id": "423343d9-fc56-4a8d-8bfc-bb1feff82cba",
   "metadata": {},
   "outputs": [
    {
     "name": "stdout",
     "output_type": "stream",
     "text": [
      "API key found, and looks good so far!\n"
     ]
    }
   ],
   "source": [
    "# Load environment variables. \n",
    "# Here we're loading the OpenAPI Key, instead of hardcoding it in the code.\n",
    "# This requires keeping the key in .env file. \n",
    "\n",
    "load_dotenv(override=True)\n",
    "api_key = os.getenv('OPENAI_API_KEY')\n",
    "MODEL = \"gpt-4o-mini\"    # The OpenAI mode to use\n",
    "GN = \"https://news.google.com\"\n",
    "\n",
    "# Check the key\n",
    "if not api_key:\n",
    "    print(\"No API key was found, please check that .env file exists.\")\n",
    "elif not api_key.startswith(\"sk-proj-\"):\n",
    "    print(\"An API key was found, but it doesn't start with sk-proj-; please check you're using the right key\")\n",
    "elif api_key.strip() != api_key:\n",
    "    print(\"An API key was found, but it looks like it might have space or tab characters at the start or end - please remove them\")\n",
    "else:\n",
    "    print(\"API key found, and looks good so far!\")"
   ]
  },
  {
   "cell_type": "code",
   "execution_count": 25,
   "id": "00d88aac-daf7-4b33-b4d6-96d5a5a4a834",
   "metadata": {},
   "outputs": [],
   "source": [
    "# Create object of OpenAI\n",
    "openai = OpenAI()"
   ]
  },
  {
   "cell_type": "markdown",
   "id": "762f218e-f8ae-49f0-a6dc-feb300b979ec",
   "metadata": {},
   "source": [
    "## Step 1: Find Relevant Story Links"
   ]
  },
  {
   "cell_type": "code",
   "execution_count": 4,
   "id": "f0e56c11-6054-4ab3-b3d0-43e917309668",
   "metadata": {},
   "outputs": [],
   "source": [
    "# A class to represent a Webpage\n",
    "# Some websites need you to use proper headers when fetching them:\n",
    "headers = {\n",
    " \"User-Agent\": \"Mozilla/5.0 (Windows NT 10.0; Win64; x64) AppleWebKit/537.36 (KHTML, like Gecko) Chrome/117.0.0.0 Safari/537.36\"\n",
    "}\n",
    "\n",
    "class Website:\n",
    "    \"\"\"\n",
    "    A utility class to represent a Website that we have scraped, now with links\n",
    "    \"\"\"\n",
    "\n",
    "    def __init__(self, url):\n",
    "        self.url = url\n",
    "        response = requests.get(url, headers=headers)\n",
    "        self.body = response.content\n",
    "        soup = BeautifulSoup(self.body, 'html.parser')\n",
    "        self.title = soup.title.string if soup.title else \"No title found\"\n",
    "        if soup.body:\n",
    "            for irrelevant in soup.body([\"script\", \"style\", \"img\", \"input\"]):\n",
    "                irrelevant.decompose()\n",
    "            self.text = soup.body.get_text(separator=\"\\n\", strip=True)\n",
    "        else:\n",
    "            self.text = \"\"\n",
    "        links = [link.get('href') for link in soup.find_all('a')]\n",
    "        self.links = [link for link in links if link]\n",
    "\n",
    "    def get_contents(self):\n",
    "        return f\"Webpage Title:\\n{self.title}\\nWebpage Contents:\\n{self.text}\\n\\n\""
   ]
  },
  {
   "cell_type": "code",
   "execution_count": 27,
   "id": "e37eef66-397d-46e0-ada8-2714cacf5b1e",
   "metadata": {},
   "outputs": [],
   "source": [
    "link_system_prompt = \"You are provided with a list of links found on Google news home page \\\n",
    "You are able to decide which of the links would be pointing to a news story so that they could be used for summarizing today's headlines, \\\n",
    "Also provide the type of the news story such as political, entertainment, business, sports etc.\\n\"\n",
    "link_system_prompt += \"You should respond in JSON as in this example:\"\n",
    "link_system_prompt += \"\"\"\n",
    "{\n",
    "    \"links\": [\n",
    "        {\"type\": \"political\", \"url\": \"https://full.url/goes/here/about\"},\n",
    "        {\"type\": \"business\": \"url\": \"https://another.full.url/careers\"}\n",
    "    ]\n",
    "}\n",
    "\"\"\""
   ]
  },
  {
   "cell_type": "code",
   "execution_count": 28,
   "id": "c0badf2c-f6a7-4600-b6e1-b927a1ee1c9f",
   "metadata": {},
   "outputs": [],
   "source": [
    "def get_links_user_prompt(website):\n",
    "    user_prompt = f\"Here is the list of links on the Google news website {website.url} - \"\n",
    "    user_prompt += \"please decide which of these point to actual news story, respond with the full https URL in JSON format. \\\n",
    "Do not include Terms of Service, Privacy, email links etc.\\n\"\n",
    "    user_prompt += \"Links (some might be relative links):\\n\"\n",
    "    user_prompt += \"\\n\".join(website.links)\n",
    "    return user_prompt"
   ]
  },
  {
   "cell_type": "code",
   "execution_count": 30,
   "id": "0cb1fb13-665f-4123-9bce-e7e7f1a80055",
   "metadata": {},
   "outputs": [],
   "source": [
    "def get_links(url):\n",
    "    website = Website(url)\n",
    "    response = openai.chat.completions.create(\n",
    "        model=MODEL,\n",
    "        messages=[\n",
    "            {\"role\": \"system\", \"content\": link_system_prompt},\n",
    "            {\"role\": \"user\", \"content\": get_links_user_prompt(website)}\n",
    "      ],\n",
    "        response_format={\"type\": \"json_object\"}\n",
    "    )\n",
    "    result = response.choices[0].message.content\n",
    "    return json.loads(result)"
   ]
  },
  {
   "cell_type": "markdown",
   "id": "ed2c8797-0b56-45e0-a3a8-f648f1a377fd",
   "metadata": {},
   "source": [
    "## Step 2: Generate a summary from all the links"
   ]
  },
  {
   "cell_type": "code",
   "execution_count": 44,
   "id": "366dc4c7-cbca-4ace-b186-965244a1d8ed",
   "metadata": {},
   "outputs": [],
   "source": [
    "def get_all_news_content(url):\n",
    "    result = \"Landing page:\\n\"\n",
    "    result += Website(url).get_contents()\n",
    "    links = get_links(url)\n",
    "    #print(\"Found links:\", links)\n",
    "    for link in links[\"links\"]:\n",
    "        result += f\"\\n\\n{link['type']}\\n\"\n",
    "        result += Website(link[\"url\"]).get_contents()\n",
    "    return result"
   ]
  },
  {
   "cell_type": "code",
   "execution_count": 45,
   "id": "e2cab0a0-d2ec-4f6f-a8ca-f71209bf0a5d",
   "metadata": {},
   "outputs": [],
   "source": [
    "system_prompt = \"You are an assistant that analyzes the contents of several news stories linked from google news website \\\n",
    "and creates a short summary of today's headlines and a news brief for someone who is in a hurry and wants cursory look. Respond in markdown.\\\n",
    "Include details of news type such as political, business etc, publication date etc, if you have the information.\""
   ]
  },
  {
   "cell_type": "code",
   "execution_count": 47,
   "id": "02fbf547-735f-4727-b7b2-989e71f2b7a1",
   "metadata": {},
   "outputs": [],
   "source": [
    "def get_news_user_prompt(url):\n",
    "    user_prompt = f\"You are looking at Google News website\\n\"\n",
    "    user_prompt += f\"Here are the contents of its landing page and other linked pages of news stories; use this information to build a summary of news stories in markdown.\\n\"\n",
    "    user_prompt += get_all_news_content(url)\n",
    "    user_prompt = user_prompt[:10_000] # Truncate if more than 10,000 characters\n",
    "    return user_prompt"
   ]
  },
  {
   "cell_type": "code",
   "execution_count": 48,
   "id": "95d9b22e-0edc-406e-91ab-346741d34a2d",
   "metadata": {},
   "outputs": [],
   "source": [
    "def create_news_summary(url):\n",
    "    response = openai.chat.completions.create(\n",
    "        model=MODEL,\n",
    "        messages=[\n",
    "            {\"role\": \"system\", \"content\": system_prompt},\n",
    "            {\"role\": \"user\", \"content\": get_news_user_prompt(url)}\n",
    "          ],\n",
    "    )\n",
    "    result = response.choices[0].message.content\n",
    "    display(Markdown(result))"
   ]
  },
  {
   "cell_type": "code",
   "execution_count": 49,
   "id": "ba6306fb-fa36-47e7-a05c-e2b20b08bab2",
   "metadata": {},
   "outputs": [
    {
     "data": {
      "text/markdown": [
       "# Today's News Summary (January 26, 2025)\n",
       "\n",
       "## Headlines Overview:\n",
       "### **Political**\n",
       "- **Republic Day 2025 Celebrations**: PM Modi marked the occasion as a \"memorable morning\" at Kartavya Path, showcasing India's military strength and cultural heritage with a parade featuring the Pralay missile and significant tableaux. (The Economic Times, 1 hour ago)\n",
       "- **BJP’s Response to Terrorism**: The BJP applauded the extradition of Tahawwur Rana, the mastermind behind the 26/11 Mumbai attacks, as a testament to the Modi government's strong will against terrorism. (NDTV, 20 hours ago)\n",
       "- **Kejriwal Critiques BJP**: Delhi CM Arvind Kejriwal alleged that the BJP waived debts of select individuals, calling the upcoming Delhi elections a contest between different ideologies. (Hindustan Times, 5 hours ago)\n",
       "\n",
       "### **International**\n",
       "- **Middle East Conflicts**: Amid a fragile ceasefire, Hamas released four Israeli hostages in exchange for 200 Palestinian prisoners, while Gazan officials reported many people stranded at an Israeli barrier. (The Indian Express, 1 hour ago)\n",
       "\n",
       "### **Technology & Innovation**\n",
       "- **First Train to Kashmir**: The Vande Bharat Express successfully completed its first trial run to Kashmir, marking a significant milestone after 126 years. (Hindu, 13 hours ago)\n",
       "\n",
       "### **Business**\n",
       "- **Budget 2025 Expectations**: As the Budget announcement approaches, expectations are on rise for income tax relief and enhanced spending on infrastructure, specifically for railways and highways. (Mint, 40 minutes ago)\n",
       "\n",
       "## News Brief:\n",
       "- **India celebrates Republic Day** with a heartfelt display of military and cultural pride, while political tensions rise with Kejriwal’s allegations against the BJP and the extradition of a key terrorist figure. On the international front, Middle Eastern hostages are being exchanged amidst ongoing conflict, and technological advancements are celebrated with a new train line to Kashmir. Economic forecasts point towards a hopeful Budget 2025 that could bring relief to many citizens.\n",
       "\n",
       "### Publications:\n",
       "- **The Times of India**\n",
       "- **NDTV**\n",
       "- **The Hindu**\n",
       "- **Hindustan Times**\n",
       "- **Mint**\n",
       "  \n",
       "### Publication Dates:\n",
       "- Information gathered from articles published **within the past few hours to 20 hours ago**, primarily on **January 26, 2025**."
      ],
      "text/plain": [
       "<IPython.core.display.Markdown object>"
      ]
     },
     "metadata": {},
     "output_type": "display_data"
    }
   ],
   "source": [
    "create_news_summary(GN)"
   ]
  },
  {
   "cell_type": "code",
   "execution_count": null,
   "id": "164fdccc-454d-433e-9a56-e0d10774b14f",
   "metadata": {},
   "outputs": [],
   "source": []
  }
 ],
 "metadata": {
  "kernelspec": {
   "display_name": "Python 3 (ipykernel)",
   "language": "python",
   "name": "python3"
  },
  "language_info": {
   "codemirror_mode": {
    "name": "ipython",
    "version": 3
   },
   "file_extension": ".py",
   "mimetype": "text/x-python",
   "name": "python",
   "nbconvert_exporter": "python",
   "pygments_lexer": "ipython3",
   "version": "3.11.11"
  }
 },
 "nbformat": 4,
 "nbformat_minor": 5
}
